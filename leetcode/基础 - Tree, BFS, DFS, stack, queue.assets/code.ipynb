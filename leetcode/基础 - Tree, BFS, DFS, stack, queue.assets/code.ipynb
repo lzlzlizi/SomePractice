{
 "cells": [
  {
   "cell_type": "code",
   "execution_count": 124,
   "metadata": {},
   "outputs": [
    {
     "name": "stdout",
     "output_type": "stream",
     "text": [
      "[4, 18, 2, 8, 3, 7, 12, 14, 13, 10, 6, 15, 1, 16, 0, 9, 19, 17, 5, 11]\n"
     ]
    },
    {
     "data": {
      "image/png": "[encoded data removed]",
      "text/plain": [
       "<Figure size 576x720 with 1 Axes>"
      ]
     },
     "metadata": {},
     "output_type": "display_data"
    }
   ],
   "source": [
    "import random\n",
    "random.seed(1)\n",
    "import networkx as nx\n",
    "import matplotlib.pyplot as plt\n",
    "\n",
    "def create_graph(G, node, pos={}, x=0, y=0, layer=1):\n",
    "    pos[node.value] = (x, y)\n",
    "    if node.left:\n",
    "        G.add_edge(node.value, node.left.value)\n",
    "        l_x, l_y = x - 1 / 2 ** layer, y - 1\n",
    "        l_layer = layer + 1\n",
    "        create_graph(G, node.left, x=l_x, y=l_y, pos=pos, layer=l_layer)\n",
    "    if node.right:\n",
    "        G.add_edge(node.value, node.right.value)\n",
    "        r_x, r_y = x + 1 / 2 ** layer, y - 1\n",
    "        r_layer = layer + 1\n",
    "        create_graph(G, node.right, x=r_x, y=r_y, pos=pos, layer=r_layer)\n",
    "    return (G, pos)\n",
    "\n",
    "def draw(node):   # 以某个节点为根画图\n",
    "    graph = nx.DiGraph()\n",
    "    graph, pos = create_graph(graph, node)\n",
    "    fig, ax = plt.subplots(figsize=(8, 10))  # 比例可以根据树的深度适当调节\n",
    "    nx.draw_networkx(graph, pos, ax=ax, node_size=300, node_color = 'pink')\n",
    "    plt.show()\n",
    "\n",
    "class node:\n",
    "    def __init__(self,x):\n",
    "        self.value = x\n",
    "        self.left = None\n",
    "        self.right = None\n",
    "        \n",
    "\n",
    "def randomTree(nums):\n",
    "    def addLeaf(root,t):\n",
    "        if random.randint(0,1) == 0:\n",
    "            if not root.left:\n",
    "                root.left = node(t)\n",
    "            else:\n",
    "                addLeaf(root.left,t)\n",
    "        else:\n",
    "            if not root.right:\n",
    "                root.right = node(t)\n",
    "            else:\n",
    "                addLeaf(root.right,t)\n",
    "    if len(nums) == 0:\n",
    "        return None\n",
    "    root = node(nums[0])\n",
    "    \n",
    "    print(nums)\n",
    "    for t in nums[1:]:\n",
    "        addLeaf(root,t)\n",
    "    return root\n",
    "N = 20\n",
    "root = randomTree(random.sample(range(N),k = N))\n",
    "draw(root)"
   ]
  },
  {
   "cell_type": "code",
   "execution_count": 125,
   "metadata": {},
   "outputs": [
    {
     "data": {
      "text/plain": [
       "[4, 2, 18, 3, 8, 16, 10, 11, 7, 12, 14, 0, 5, 1, 13, 15, 17, 9, 6, 19]"
      ]
     },
     "execution_count": 125,
     "metadata": {},
     "output_type": "execute_result"
    }
   ],
   "source": [
    "## Non-recursive BFS with queue\n",
    "from queue import Queue\n",
    "def bfs(root):\n",
    "    his = []\n",
    "    if not root:\n",
    "        return None\n",
    "    q = Queue()\n",
    "    q.put(root)\n",
    "    while not q.empty():\n",
    "        l = q.qsize()\n",
    "        for _ in range(l):\n",
    "            n = q.get()\n",
    "            if n.left:\n",
    "                q.put(n.left)\n",
    "            if n.right:\n",
    "                q.put(n.right)\n",
    "            his.append(n.value)\n",
    "    return his\n",
    "\n",
    "bfs(root)"
   ]
  },
  {
   "cell_type": "code",
   "execution_count": 126,
   "metadata": {},
   "outputs": [
    {
     "data": {
      "text/plain": [
       "defaultdict(list,\n",
       "            {0: [4],\n",
       "             1: [2, 18],\n",
       "             2: [3, 8, 16, 10],\n",
       "             3: [11, 7, 12, 14, 0, 5, 1],\n",
       "             4: [13, 15, 17, 9],\n",
       "             5: [6],\n",
       "             6: [19]})"
      ]
     },
     "execution_count": 126,
     "metadata": {},
     "output_type": "execute_result"
    }
   ],
   "source": [
    "## recursive BFS\n",
    "from collections import defaultdict\n",
    "def level_order_traversal(node):\n",
    "    res = defaultdict(list)\n",
    "    def search(node,level):\n",
    "        if not node:\n",
    "            return None\n",
    "        res[level].append(node.value)\n",
    "        \n",
    "        if node.left:\n",
    "            search(node.left,level + 1)\n",
    "        if node.right:\n",
    "            search(node.right,level + 1)\n",
    "    search(node, 0)\n",
    "    return res\n",
    "\n",
    "level_order_traversal(root)"
   ]
  },
  {
   "cell_type": "code",
   "execution_count": 127,
   "metadata": {},
   "outputs": [
    {
     "name": "stdout",
     "output_type": "stream",
     "text": [
      "Preorder [4, 2, 3, 11, 7, 8, 12, 13, 6, 19, 14, 15, 18, 16, 0, 17, 9, 10, 5, 1]\n",
      "Inorder [11, 3, 7, 2, 13, 6, 19, 12, 8, 15, 14, 4, 16, 17, 0, 9, 18, 5, 10, 1]\n",
      "Postorder [11, 7, 3, 19, 6, 13, 12, 15, 14, 8, 2, 17, 9, 0, 16, 5, 1, 10, 18, 4]\n"
     ]
    }
   ],
   "source": [
    "## recursive DFS\n",
    "def recursive_DFS(root, method):\n",
    "    res = []\n",
    "    def visit(root):\n",
    "        if not root:\n",
    "            return\n",
    "        if method == 'pre': res.append(root.value)\n",
    "        if root.left: visit(root.left)\n",
    "        if method == 'in': res.append(root.value)\n",
    "        if root.right: visit(root.right)\n",
    "        if method == 'post': res.append(root.value)\n",
    "    visit(root)\n",
    "    return res\n",
    "\n",
    "print('Preorder',recursive_DFS(root,'pre'))\n",
    "print('Inorder',recursive_DFS(root,'in'))\n",
    "print('Postorder',recursive_DFS(root,'post'))"
   ]
  },
  {
   "cell_type": "code",
   "execution_count": 136,
   "metadata": {},
   "outputs": [
    {
     "name": "stdout",
     "output_type": "stream",
     "text": [
      "Preorder [4, 2, 3, 11, 7, 8, 12, 13, 6, 19, 14, 15, 18, 16, 0, 17, 9, 10, 5, 1]\n",
      "Ineorder [11, 3, 7, 2, 13, 6, 19, 12, 8, 15, 14, 4, 16, 17, 0, 9, 18, 5, 10, 1]\n",
      "Ineorder [11, 7, 3, 19, 6, 13, 12, 15, 14, 8, 2, 17, 9, 0, 16, 5, 1, 10, 18, 4]\n"
     ]
    }
   ],
   "source": [
    "## Non-recursive DFS with stack\n",
    "def Preorder_traversal(root):\n",
    "    his = []\n",
    "    if not root:\n",
    "        return None\n",
    "    stack = [root]\n",
    "    while stack:\n",
    "        n = stack.pop()\n",
    "        his.append(n.value)\n",
    "        if n.right:\n",
    "            stack.append(n.right)\n",
    "        if n.left:\n",
    "            stack.append(n.left)\n",
    "    return his\n",
    "\n",
    "def Inorder_traversal(root):\n",
    "    his = []\n",
    "    if not root:\n",
    "        return None\n",
    "    stack = []\n",
    "    n = root\n",
    "    while stack or n:\n",
    "        while n:\n",
    "            stack.append(n)\n",
    "            n = n.left\n",
    " \n",
    "        \n",
    "        n = stack.pop()\n",
    "        his.append(n.value)\n",
    "        n = n.right\n",
    "    return his\n",
    "\n",
    "def Postorder_traversal(root):\n",
    "    his = []\n",
    "    if not root:\n",
    "        return None\n",
    "    stack = []\n",
    "    current = root\n",
    "    while stack or current:\n",
    "        while current:\n",
    "            stack.append(current)\n",
    "            current = current.left\n",
    "            \n",
    "        current = stack[-1]\n",
    "        if not current.right or current.right == previous:\n",
    "            his.append(current.value)\n",
    "            previous = current\n",
    "            current = None\n",
    "            stack.pop()\n",
    "        else:\n",
    "            current = current.right\n",
    "    \n",
    "    return his\n",
    "\n",
    "print('Preorder',Preorder_traversal(root))\n",
    "print('Ineorder',Inorder_traversal(root))\n",
    "print('Ineorder',Postorder_traversal(root))"
   ]
  },
  {
   "cell_type": "code",
   "execution_count": null,
   "metadata": {},
   "outputs": [],
   "source": []
  }
 ],
 "metadata": {
  "kernelspec": {
   "display_name": "Python 3",
   "language": "python",
   "name": "python3"
  },
  "language_info": {
   "codemirror_mode": {
    "name": "ipython",
    "version": 3
   },
   "file_extension": ".py",
   "mimetype": "text/x-python",
   "name": "python",
   "nbconvert_exporter": "python",
   "pygments_lexer": "ipython3",
   "version": "3.6.8"
  }
 },
 "nbformat": 4,
 "nbformat_minor": 4
}
